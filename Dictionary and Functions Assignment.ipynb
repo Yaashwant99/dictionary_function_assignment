{
 "cells": [
  {
   "cell_type": "markdown",
   "id": "ea595ebf",
   "metadata": {},
   "source": [
    "# Dictionary Questions"
   ]
  },
  {
   "cell_type": "markdown",
   "id": "81a0f3cf",
   "metadata": {},
   "source": [
    "# Q1"
   ]
  },
  {
   "cell_type": "code",
   "execution_count": 23,
   "id": "903cd981",
   "metadata": {},
   "outputs": [],
   "source": [
    "my_dict = {\n",
    "    'name' : 'Alice',\n",
    "    'age' : 25,\n",
    "    'city' : 'New York'\n",
    "}"
   ]
  },
  {
   "cell_type": "code",
   "execution_count": 24,
   "id": "4d309c25",
   "metadata": {},
   "outputs": [
    {
     "data": {
      "text/plain": [
       "{'name': 'Alice', 'age': 25, 'city': 'New York'}"
      ]
     },
     "execution_count": 24,
     "metadata": {},
     "output_type": "execute_result"
    }
   ],
   "source": [
    "my_dict"
   ]
  },
  {
   "cell_type": "code",
   "execution_count": 25,
   "id": "771b122a",
   "metadata": {},
   "outputs": [
    {
     "data": {
      "text/plain": [
       "25"
      ]
     },
     "execution_count": 25,
     "metadata": {},
     "output_type": "execute_result"
    }
   ],
   "source": [
    "my_dict['age']"
   ]
  },
  {
   "cell_type": "code",
   "execution_count": 26,
   "id": "c53917b7",
   "metadata": {},
   "outputs": [],
   "source": [
    "my_dict['age'] = 26     # age updated to 26"
   ]
  },
  {
   "cell_type": "code",
   "execution_count": 27,
   "id": "2ad8e060",
   "metadata": {},
   "outputs": [
    {
     "data": {
      "text/plain": [
       "{'name': 'Alice', 'age': 26, 'city': 'New York'}"
      ]
     },
     "execution_count": 27,
     "metadata": {},
     "output_type": "execute_result"
    }
   ],
   "source": [
    "my_dict"
   ]
  },
  {
   "cell_type": "code",
   "execution_count": 28,
   "id": "f8445bb7",
   "metadata": {},
   "outputs": [
    {
     "data": {
      "text/plain": [
       "'New York'"
      ]
     },
     "execution_count": 28,
     "metadata": {},
     "output_type": "execute_result"
    }
   ],
   "source": [
    "my_dict.pop('city')    # removed key city"
   ]
  },
  {
   "cell_type": "code",
   "execution_count": 29,
   "id": "31c39f1b",
   "metadata": {},
   "outputs": [
    {
     "data": {
      "text/plain": [
       "{'name': 'Alice', 'age': 26}"
      ]
     },
     "execution_count": 29,
     "metadata": {},
     "output_type": "execute_result"
    }
   ],
   "source": [
    "my_dict"
   ]
  },
  {
   "cell_type": "code",
   "execution_count": 30,
   "id": "ea4d26e5",
   "metadata": {},
   "outputs": [
    {
     "data": {
      "text/plain": [
       "'Alice'"
      ]
     },
     "execution_count": 30,
     "metadata": {},
     "output_type": "execute_result"
    }
   ],
   "source": [
    "my_dict['name']          # name key exist"
   ]
  },
  {
   "cell_type": "code",
   "execution_count": null,
   "id": "f59ac907",
   "metadata": {},
   "outputs": [],
   "source": []
  },
  {
   "cell_type": "markdown",
   "id": "94f7e054",
   "metadata": {},
   "source": [
    "# Q2"
   ]
  },
  {
   "cell_type": "code",
   "execution_count": 31,
   "id": "42b4a77e",
   "metadata": {},
   "outputs": [],
   "source": [
    "dict1 = {\n",
    "    \"a\":1,\n",
    "    \"b\":2,\n",
    "    \"c\":3\n",
    "}"
   ]
  },
  {
   "cell_type": "code",
   "execution_count": 32,
   "id": "4816530f",
   "metadata": {},
   "outputs": [
    {
     "data": {
      "text/plain": [
       "{'a': 1, 'b': 2, 'c': 3}"
      ]
     },
     "execution_count": 32,
     "metadata": {},
     "output_type": "execute_result"
    }
   ],
   "source": [
    "dict1"
   ]
  },
  {
   "cell_type": "code",
   "execution_count": 33,
   "id": "86647b92",
   "metadata": {},
   "outputs": [],
   "source": [
    "dict2 = {\n",
    "    \"b\":4,\n",
    "    \"c\":5,\n",
    "    \"d\":6\n",
    "}"
   ]
  },
  {
   "cell_type": "code",
   "execution_count": 34,
   "id": "aa0210cd",
   "metadata": {},
   "outputs": [
    {
     "data": {
      "text/plain": [
       "{'b': 4, 'c': 5, 'd': 6}"
      ]
     },
     "execution_count": 34,
     "metadata": {},
     "output_type": "execute_result"
    }
   ],
   "source": [
    "dict2"
   ]
  },
  {
   "cell_type": "code",
   "execution_count": 35,
   "id": "dd80a2f9",
   "metadata": {},
   "outputs": [],
   "source": [
    "dict2.update(dict1)"
   ]
  },
  {
   "cell_type": "code",
   "execution_count": 36,
   "id": "5fae28f5",
   "metadata": {},
   "outputs": [
    {
     "data": {
      "text/plain": [
       "{'b': 2, 'c': 3, 'd': 6, 'a': 1}"
      ]
     },
     "execution_count": 36,
     "metadata": {},
     "output_type": "execute_result"
    }
   ],
   "source": [
    "dict2"
   ]
  },
  {
   "cell_type": "code",
   "execution_count": 37,
   "id": "f6ae378f",
   "metadata": {},
   "outputs": [],
   "source": [
    "dict2[\"d\"] = 4      # update common keys"
   ]
  },
  {
   "cell_type": "code",
   "execution_count": 38,
   "id": "45e35b4e",
   "metadata": {},
   "outputs": [
    {
     "data": {
      "text/plain": [
       "5"
      ]
     },
     "execution_count": 38,
     "metadata": {},
     "output_type": "execute_result"
    }
   ],
   "source": [
    "dict2.setdefault(\"e\",5)       # add missing key value"
   ]
  },
  {
   "cell_type": "code",
   "execution_count": 39,
   "id": "e16c14ee",
   "metadata": {},
   "outputs": [
    {
     "data": {
      "text/plain": [
       "{'b': 2, 'c': 3, 'd': 4, 'a': 1, 'e': 5}"
      ]
     },
     "execution_count": 39,
     "metadata": {},
     "output_type": "execute_result"
    }
   ],
   "source": [
    "dict2"
   ]
  },
  {
   "cell_type": "code",
   "execution_count": 40,
   "id": "602302a7",
   "metadata": {},
   "outputs": [
    {
     "data": {
      "text/plain": [
       "6"
      ]
     },
     "execution_count": 40,
     "metadata": {},
     "output_type": "execute_result"
    }
   ],
   "source": [
    "dict2.setdefault(\"f\",6)"
   ]
  },
  {
   "cell_type": "code",
   "execution_count": 41,
   "id": "153bb7ec",
   "metadata": {},
   "outputs": [
    {
     "data": {
      "text/plain": [
       "{'b': 2, 'c': 3, 'd': 4, 'a': 1, 'e': 5, 'f': 6}"
      ]
     },
     "execution_count": 41,
     "metadata": {},
     "output_type": "execute_result"
    }
   ],
   "source": [
    "dict2"
   ]
  },
  {
   "cell_type": "code",
   "execution_count": null,
   "id": "bd2e954d",
   "metadata": {},
   "outputs": [],
   "source": []
  },
  {
   "cell_type": "markdown",
   "id": "1ecdef76",
   "metadata": {},
   "source": [
    "# Q3"
   ]
  },
  {
   "cell_type": "code",
   "execution_count": 42,
   "id": "1be4d9bd",
   "metadata": {},
   "outputs": [],
   "source": [
    "data1 = {\n",
    "    \"name\":\"Yashwant\",\n",
    "    \"age\":24,\n",
    "    \"state\":\"Delhi\",\n",
    "    \"city\":\"New Delhi\",\n",
    "    \"nationality\":\"Indian\"\n",
    "}"
   ]
  },
  {
   "cell_type": "code",
   "execution_count": 43,
   "id": "531cfdd2",
   "metadata": {},
   "outputs": [
    {
     "data": {
      "text/plain": [
       "{'name': 'Yashwant',\n",
       " 'age': 24,\n",
       " 'state': 'Delhi',\n",
       " 'city': 'New Delhi',\n",
       " 'nationality': 'Indian'}"
      ]
     },
     "execution_count": 43,
     "metadata": {},
     "output_type": "execute_result"
    }
   ],
   "source": [
    "{k:v for k,v in data1.items()}"
   ]
  },
  {
   "cell_type": "code",
   "execution_count": null,
   "id": "409934fd",
   "metadata": {},
   "outputs": [],
   "source": []
  },
  {
   "cell_type": "markdown",
   "id": "1ec3a20b",
   "metadata": {},
   "source": [
    "# Q4"
   ]
  },
  {
   "cell_type": "code",
   "execution_count": 44,
   "id": "74c2158d",
   "metadata": {},
   "outputs": [],
   "source": [
    "squares = {\n",
    "    1:1,\n",
    "    2:4,\n",
    "    3:9,\n",
    "    4:16,\n",
    "    5:25,\n",
    "    6:36,\n",
    "    7:49,\n",
    "    8:64,\n",
    "    9:81,\n",
    "    10:100\n",
    "}"
   ]
  },
  {
   "cell_type": "code",
   "execution_count": 45,
   "id": "337582d3",
   "metadata": {},
   "outputs": [
    {
     "data": {
      "text/plain": [
       "{1: 1, 2: 4, 3: 9, 4: 16, 5: 25, 6: 36, 7: 49, 8: 64, 9: 81, 10: 100}"
      ]
     },
     "execution_count": 45,
     "metadata": {},
     "output_type": "execute_result"
    }
   ],
   "source": [
    "squares"
   ]
  },
  {
   "cell_type": "code",
   "execution_count": 46,
   "id": "7346b1e7",
   "metadata": {},
   "outputs": [],
   "source": [
    "new = {k:v for k,v in squares.items() if k%2==0}         # print only even key and save in new dictionary"
   ]
  },
  {
   "cell_type": "code",
   "execution_count": 47,
   "id": "450c0276",
   "metadata": {},
   "outputs": [
    {
     "data": {
      "text/plain": [
       "{2: 4, 4: 16, 6: 36, 8: 64, 10: 100}"
      ]
     },
     "execution_count": 47,
     "metadata": {},
     "output_type": "execute_result"
    }
   ],
   "source": [
    "new"
   ]
  },
  {
   "cell_type": "code",
   "execution_count": null,
   "id": "9d745e00",
   "metadata": {},
   "outputs": [],
   "source": []
  },
  {
   "cell_type": "markdown",
   "id": "ace6b9ff",
   "metadata": {},
   "source": [
    "# Q5"
   ]
  },
  {
   "cell_type": "code",
   "execution_count": 48,
   "id": "3566924b",
   "metadata": {},
   "outputs": [],
   "source": [
    "marks1 = {\n",
    "    'Ravi':{\n",
    "        'age':16,\n",
    "        'subjects':{\n",
    "            'english':'B1',                               # Nested Dictionary\n",
    "            'hindi':'A1',\n",
    "            'maths':'B2'\n",
    "        },\n",
    "    },\n",
    "    'naveen':{\n",
    "        'age':17,\n",
    "        'subjects':{\n",
    "            'english':'A2',\n",
    "            'hindi':'B1',\n",
    "            'maths':'B2'\n",
    "        },\n",
    "    },\n",
    "    'kiran':{\n",
    "        'age':18,\n",
    "        'subjects':{\n",
    "            'english':'A1',\n",
    "            'hindi':'A2',\n",
    "            'maths':'A1'\n",
    "        }\n",
    "    }\n",
    "}"
   ]
  },
  {
   "cell_type": "code",
   "execution_count": 49,
   "id": "bbbbfd8b",
   "metadata": {},
   "outputs": [
    {
     "data": {
      "text/plain": [
       "{'Ravi': {'age': 16,\n",
       "  'subjects': {'english': 'B1', 'hindi': 'A1', 'maths': 'B2'}},\n",
       " 'naveen': {'age': 17,\n",
       "  'subjects': {'english': 'A2', 'hindi': 'B1', 'maths': 'B2'}},\n",
       " 'kiran': {'age': 18,\n",
       "  'subjects': {'english': 'A1', 'hindi': 'A2', 'maths': 'A1'}}}"
      ]
     },
     "execution_count": 49,
     "metadata": {},
     "output_type": "execute_result"
    }
   ],
   "source": [
    "marks1"
   ]
  },
  {
   "cell_type": "code",
   "execution_count": null,
   "id": "c6a69e6d",
   "metadata": {},
   "outputs": [],
   "source": []
  },
  {
   "cell_type": "markdown",
   "id": "73c35a54",
   "metadata": {},
   "source": [
    "# Q6"
   ]
  },
  {
   "cell_type": "code",
   "execution_count": 50,
   "id": "eb566e58",
   "metadata": {},
   "outputs": [],
   "source": [
    "info = {\n",
    "    'name':'Ramesh',\n",
    "    'age':30,\n",
    "    'profession':'Teacher',\n",
    "    'nationality':'Indian',\n",
    "    'address':'saket,new delhi'\n",
    "}"
   ]
  },
  {
   "cell_type": "code",
   "execution_count": 51,
   "id": "74524411",
   "metadata": {},
   "outputs": [
    {
     "data": {
      "text/plain": [
       "{'name': 'Ramesh',\n",
       " 'age': 30,\n",
       " 'profession': 'Teacher',\n",
       " 'nationality': 'Indian',\n",
       " 'address': 'saket,new delhi'}"
      ]
     },
     "execution_count": 51,
     "metadata": {},
     "output_type": "execute_result"
    }
   ],
   "source": [
    "info"
   ]
  },
  {
   "cell_type": "code",
   "execution_count": 52,
   "id": "a9669f98",
   "metadata": {},
   "outputs": [
    {
     "data": {
      "text/plain": [
       "dict_keys(['name', 'age', 'profession', 'nationality', 'address'])"
      ]
     },
     "execution_count": 52,
     "metadata": {},
     "output_type": "execute_result"
    }
   ],
   "source": [
    "info.keys()"
   ]
  },
  {
   "cell_type": "code",
   "execution_count": 53,
   "id": "938ea81c",
   "metadata": {},
   "outputs": [
    {
     "data": {
      "text/plain": [
       "dict_values(['Ramesh', 30, 'Teacher', 'Indian', 'saket,new delhi'])"
      ]
     },
     "execution_count": 53,
     "metadata": {},
     "output_type": "execute_result"
    }
   ],
   "source": [
    "info.values()"
   ]
  },
  {
   "cell_type": "code",
   "execution_count": 54,
   "id": "6da5ed2e",
   "metadata": {},
   "outputs": [
    {
     "data": {
      "text/plain": [
       "dict_items([('name', 'Ramesh'), ('age', 30), ('profession', 'Teacher'), ('nationality', 'Indian'), ('address', 'saket,new delhi')])"
      ]
     },
     "execution_count": 54,
     "metadata": {},
     "output_type": "execute_result"
    }
   ],
   "source": [
    "info.items()"
   ]
  },
  {
   "cell_type": "code",
   "execution_count": null,
   "id": "8715586d",
   "metadata": {},
   "outputs": [],
   "source": []
  },
  {
   "cell_type": "code",
   "execution_count": null,
   "id": "b2d2015a",
   "metadata": {},
   "outputs": [],
   "source": []
  },
  {
   "cell_type": "code",
   "execution_count": null,
   "id": "09e7fd03",
   "metadata": {},
   "outputs": [],
   "source": []
  },
  {
   "cell_type": "markdown",
   "id": "91e51abe",
   "metadata": {},
   "source": [
    "# Functions Questions"
   ]
  },
  {
   "cell_type": "markdown",
   "id": "293cd71c",
   "metadata": {},
   "source": [
    "# Q1"
   ]
  },
  {
   "cell_type": "code",
   "execution_count": 1,
   "id": "21d25b9c",
   "metadata": {},
   "outputs": [],
   "source": [
    "def greet(name):\n",
    "    \"\"\"this function will greet\"\"\"              # Greet function\n",
    "    print(\"Good Morning\",name)"
   ]
  },
  {
   "cell_type": "code",
   "execution_count": 2,
   "id": "75da466e",
   "metadata": {},
   "outputs": [
    {
     "data": {
      "text/plain": [
       "function"
      ]
     },
     "execution_count": 2,
     "metadata": {},
     "output_type": "execute_result"
    }
   ],
   "source": [
    "type(greet)"
   ]
  },
  {
   "cell_type": "code",
   "execution_count": 5,
   "id": "2b49527b",
   "metadata": {},
   "outputs": [
    {
     "name": "stdout",
     "output_type": "stream",
     "text": [
      "Good Morning Yashwant\n"
     ]
    }
   ],
   "source": [
    "greet('Yashwant')"
   ]
  },
  {
   "cell_type": "code",
   "execution_count": null,
   "id": "440f7a81",
   "metadata": {},
   "outputs": [],
   "source": []
  },
  {
   "cell_type": "markdown",
   "id": "b3264db5",
   "metadata": {},
   "source": [
    "# Q2"
   ]
  },
  {
   "cell_type": "code",
   "execution_count": 6,
   "id": "4d211496",
   "metadata": {},
   "outputs": [],
   "source": [
    "def square(number):                                  \n",
    "    \"\"\"this function will return square of number\"\"\"        # square function\n",
    "    return number**2"
   ]
  },
  {
   "cell_type": "code",
   "execution_count": 7,
   "id": "7e2e0424",
   "metadata": {},
   "outputs": [
    {
     "data": {
      "text/plain": [
       "4"
      ]
     },
     "execution_count": 7,
     "metadata": {},
     "output_type": "execute_result"
    }
   ],
   "source": [
    "square(2)"
   ]
  },
  {
   "cell_type": "code",
   "execution_count": 8,
   "id": "66e2d56f",
   "metadata": {},
   "outputs": [
    {
     "data": {
      "text/plain": [
       "100"
      ]
     },
     "execution_count": 8,
     "metadata": {},
     "output_type": "execute_result"
    }
   ],
   "source": [
    "square(10)"
   ]
  },
  {
   "cell_type": "code",
   "execution_count": null,
   "id": "5085d01d",
   "metadata": {},
   "outputs": [],
   "source": []
  },
  {
   "cell_type": "markdown",
   "id": "cc3a147a",
   "metadata": {},
   "source": [
    "# Q3"
   ]
  },
  {
   "cell_type": "code",
   "execution_count": 9,
   "id": "73ee7770",
   "metadata": {},
   "outputs": [],
   "source": [
    "def power(base,exponent = 2):\n",
    "    \"\"\"this function will return result of raising base to the exponent\"\"\"       # base exponent function\n",
    "    return base**exponent"
   ]
  },
  {
   "cell_type": "code",
   "execution_count": 10,
   "id": "04387e1b",
   "metadata": {},
   "outputs": [
    {
     "data": {
      "text/plain": [
       "125"
      ]
     },
     "execution_count": 10,
     "metadata": {},
     "output_type": "execute_result"
    }
   ],
   "source": [
    "power(5,3)"
   ]
  },
  {
   "cell_type": "code",
   "execution_count": 11,
   "id": "e0e0adf3",
   "metadata": {},
   "outputs": [
    {
     "data": {
      "text/plain": [
       "25"
      ]
     },
     "execution_count": 11,
     "metadata": {},
     "output_type": "execute_result"
    }
   ],
   "source": [
    "power(5)"
   ]
  },
  {
   "cell_type": "code",
   "execution_count": null,
   "id": "0d19496c",
   "metadata": {},
   "outputs": [],
   "source": []
  },
  {
   "cell_type": "markdown",
   "id": "a5f4e98f",
   "metadata": {},
   "source": [
    "# Q4"
   ]
  },
  {
   "cell_type": "code",
   "execution_count": 14,
   "id": "d91c62ff",
   "metadata": {},
   "outputs": [],
   "source": [
    "def factorial(integer_):\n",
    "    \"\"\"this function will return factorial of integer\"\"\"\n",
    "    return 1 if (integer_==1 or integer_==0) else integer_*factorial(integer_-1)"
   ]
  },
  {
   "cell_type": "code",
   "execution_count": 15,
   "id": "e05c8662",
   "metadata": {},
   "outputs": [
    {
     "data": {
      "text/plain": [
       "120"
      ]
     },
     "execution_count": 15,
     "metadata": {},
     "output_type": "execute_result"
    }
   ],
   "source": [
    "factorial(5)           # factorial function"
   ]
  },
  {
   "cell_type": "code",
   "execution_count": null,
   "id": "c3eef8f2",
   "metadata": {},
   "outputs": [],
   "source": []
  },
  {
   "cell_type": "markdown",
   "id": "7a2590d4",
   "metadata": {},
   "source": [
    "# Q5"
   ]
  },
  {
   "cell_type": "code",
   "execution_count": 16,
   "id": "26297e74",
   "metadata": {},
   "outputs": [],
   "source": [
    "def calculate_sum(*number):\n",
    "    \"\"\"this function will return sum of numbers\"\"\"        # sum function\n",
    "    return sum(number)"
   ]
  },
  {
   "cell_type": "code",
   "execution_count": 17,
   "id": "c7d52aa9",
   "metadata": {},
   "outputs": [
    {
     "data": {
      "text/plain": [
       "9"
      ]
     },
     "execution_count": 17,
     "metadata": {},
     "output_type": "execute_result"
    }
   ],
   "source": [
    "calculate_sum(2,5,2)"
   ]
  },
  {
   "cell_type": "code",
   "execution_count": 18,
   "id": "cba666d0",
   "metadata": {},
   "outputs": [
    {
     "data": {
      "text/plain": [
       "88"
      ]
     },
     "execution_count": 18,
     "metadata": {},
     "output_type": "execute_result"
    }
   ],
   "source": [
    "calculate_sum(5,8,4,2,4,65)"
   ]
  },
  {
   "cell_type": "code",
   "execution_count": null,
   "id": "1a428d38",
   "metadata": {},
   "outputs": [],
   "source": []
  },
  {
   "cell_type": "markdown",
   "id": "3e28b022",
   "metadata": {},
   "source": [
    "# Q6"
   ]
  },
  {
   "cell_type": "code",
   "execution_count": 21,
   "id": "d171a119",
   "metadata": {},
   "outputs": [],
   "source": [
    "def print_info(name,age,city):\n",
    "    \"\"\"this function prints the information\"\"\"\n",
    "    print('My name is:',name)                   # print info function\n",
    "    print('My age is:',age)\n",
    "    print('I live in:',city)"
   ]
  },
  {
   "cell_type": "code",
   "execution_count": 22,
   "id": "79809ac2",
   "metadata": {},
   "outputs": [
    {
     "name": "stdout",
     "output_type": "stream",
     "text": [
      "My name is: Yash\n",
      "My age is: 24\n",
      "I live in: New Delhi\n"
     ]
    }
   ],
   "source": [
    "print_info('Yash',24,'New Delhi')"
   ]
  },
  {
   "cell_type": "code",
   "execution_count": null,
   "id": "4114f80e",
   "metadata": {},
   "outputs": [],
   "source": []
  },
  {
   "cell_type": "code",
   "execution_count": null,
   "id": "a83219f5",
   "metadata": {},
   "outputs": [],
   "source": []
  },
  {
   "cell_type": "code",
   "execution_count": null,
   "id": "9c1f7f24",
   "metadata": {},
   "outputs": [],
   "source": []
  }
 ],
 "metadata": {
  "kernelspec": {
   "display_name": "Python 3 (ipykernel)",
   "language": "python",
   "name": "python3"
  },
  "language_info": {
   "codemirror_mode": {
    "name": "ipython",
    "version": 3
   },
   "file_extension": ".py",
   "mimetype": "text/x-python",
   "name": "python",
   "nbconvert_exporter": "python",
   "pygments_lexer": "ipython3",
   "version": "3.11.3"
  }
 },
 "nbformat": 4,
 "nbformat_minor": 5
}
